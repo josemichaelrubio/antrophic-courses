{
 "cells": [
  {
   "cell_type": "markdown",
   "metadata": {},
   "source": [
    "# Streaming\n",
    "\n",
    "Learning from <https://github.com/josemichaelrubio/anthropic-courses-fork/blob/master/anthropic_api_fundamentals/05_Streaming.ipynb>"
   ]
  },
  {
   "cell_type": "markdown",
   "metadata": {},
   "source": [
    "Let's start by importing the `anthropic` SDK and setting up our client:"
   ]
  },
  {
   "cell_type": "code",
   "execution_count": 1,
   "metadata": {},
   "outputs": [],
   "source": [
    "from dotenv import load_dotenv\n",
    "from anthropic import Anthropic\n",
    "\n",
    "#load environment variable\n",
    "load_dotenv()\n",
    "\n",
    "#automatically looks for an \"ANTHROPIC_API_KEY\" environment variable\n",
    "client = Anthropic()"
   ]
  }
 ],
 "metadata": {
  "kernelspec": {
   "display_name": "ac-venv",
   "language": "python",
   "name": "python3"
  },
  "language_info": {
   "codemirror_mode": {
    "name": "ipython",
    "version": 3
   },
   "file_extension": ".py",
   "mimetype": "text/x-python",
   "name": "python",
   "nbconvert_exporter": "python",
   "pygments_lexer": "ipython3",
   "version": "3.12.3"
  }
 },
 "nbformat": 4,
 "nbformat_minor": 2
}
