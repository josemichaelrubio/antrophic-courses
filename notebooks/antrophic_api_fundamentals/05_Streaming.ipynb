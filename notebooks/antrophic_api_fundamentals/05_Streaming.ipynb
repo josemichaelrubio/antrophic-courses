{
 "cells": [
  {
   "cell_type": "markdown",
   "metadata": {},
   "source": [
    "# Streaming\n",
    "\n",
    "Learning from <https://github.com/josemichaelrubio/anthropic-courses-fork/blob/master/anthropic_api_fundamentals/05_Streaming.ipynb>"
   ]
  },
  {
   "cell_type": "markdown",
   "metadata": {},
   "source": [
    "Let's start by importing the `anthropic` SDK and setting up our client:"
   ]
  },
  {
   "cell_type": "code",
   "execution_count": null,
   "metadata": {},
   "outputs": [],
   "source": [
    "# Import the anthropic module\n",
    "from dotenv import load_dotenv\n",
    "from anthropic import Anthropic\n",
    "\n",
    "#load environment variable\n",
    "load_dotenv()\n",
    "\n",
    "#automatically looks for an \"ANTHROPIC_API_KEY\" environment variable\n",
    "client = Anthropic()"
   ]
  },
  {
   "cell_type": "markdown",
   "metadata": {},
   "source": [
    "We only get content back from the API **once all of the content has been generated.** Try running the bellow cell again, and you'll see that nothing is printed out until the entire response is printed all at once. This is fine in many situations, but it can lead to bad user experiences if you're building an application that forces a user to wait around for an entire response to be generated."
   ]
  },
  {
   "cell_type": "code",
   "execution_count": 2,
   "metadata": {},
   "outputs": [
    {
     "name": "stdout",
     "output_type": "stream",
     "text": [
      "We have a response back!\n",
      "========================\n",
      "Here is an essay about macaws and clay licks in the Amazon:\n",
      "\n",
      "Macaws and Clay Licks in the Amazon\n",
      "\n",
      "Deep within the lush, verdant rainforests of the Amazon basin, a remarkable natural phenomenon takes place. Flocks of brilliantly colored macaws, their vibrant plumage shimmering in the dappled sunlight, gather at special sites known as clay licks. These unique geological formations play a vital role in the lives of these magnificent birds, providing them with essential nutrients and minerals that are crucial for their survival and well-being.\n",
      "\n",
      "Macaws, with their striking red, blue, and yellow feathers, are among the most iconic and captivating inhabitants of the Amazon. These large parrots are known for their impressive size, their raucous calls, and their remarkable intelligence. They are highly social creatures, often seen soaring through the canopy in noisy, chattering groups. But it is at the clay licks where these birds truly come into their own, gathering in large numbers to partake in a behavior that is both fascinating and essential to their existence.\n",
      "\n",
      "The clay licks, or \"collpas\" as they are known locally, are natural deposits of mineral-rich clay that are exposed along the banks of rivers and streams. These clay formations have been formed over centuries by the erosion of the riverbanks, and they contain a unique blend of minerals and nutrients that are vital for the health of the macaws and other wildlife that visit them.\n",
      "\n",
      "As the macaws approach the clay licks, they engage in a remarkable ritual. They land on the exposed clay banks, often in large flocks, and begin to methodically scrape and lick the clay with their beaks. This behavior, known as geophagy, is believed to serve several important functions. The clay helps to neutralize toxins and acids that the macaws may have ingested from the various fruits, seeds, and leaves that make up their diet. It also provides them with essential minerals, such as sodium, calcium, and magnesium, which are crucial for maintaining their overall health and well-being.\n",
      "\n",
      "The clay licks are not just important for the macaws, but for a wide range of other Amazonian wildlife as well. Tapirs, deer, and even large predators like jaguars and pumas have been observed visiting the clay licks to partake in this essential behavior. The presence of these diverse species at the clay licks underscores the importance of these unique geological formations to the overall health and balance of the Amazon ecosystem.\n",
      "\n",
      "As the world's largest and most biodiverse rainforest, the Amazon is home to a dazzling array of plant and animal life. But the clay licks, and the macaws that visit them, are a true testament to the incredible complexity and interconnectedness of this remarkable natural wonder. By understanding and protecting these vital resources, we can ensure that the macaws and the countless other species that call the Amazon home continue to thrive for generations to come.\n"
     ]
    }
   ],
   "source": [
    "response = client.messages.create(\n",
    "    messages=[\n",
    "        {\n",
    "            \"role\": \"user\",\n",
    "            \"content\": \"Write me an essay about macaws and clay licks in the Amazon\",\n",
    "        }\n",
    "    ],\n",
    "    model=\"claude-3-haiku-20240307\",\n",
    "    max_tokens=800,\n",
    "    temperature=0,\n",
    ")\n",
    "print(\"We have a response back!\")\n",
    "print(\"========================\")\n",
    "print(response.content[0].text)"
   ]
  },
  {
   "cell_type": "markdown",
   "metadata": {},
   "source": [
    "**Streaming** enables us to write applications that receive content as it is generated by the model, rather than having to wait for the entire response to be generated. This is how apps like claude.ai work. As the model generates responses, that content is streamed to a user's browser and displayed:"
   ]
  }
 ],
 "metadata": {
  "kernelspec": {
   "display_name": "ac-venv",
   "language": "python",
   "name": "python3"
  },
  "language_info": {
   "codemirror_mode": {
    "name": "ipython",
    "version": 3
   },
   "file_extension": ".py",
   "mimetype": "text/x-python",
   "name": "python",
   "nbconvert_exporter": "python",
   "pygments_lexer": "ipython3",
   "version": "3.12.3"
  }
 },
 "nbformat": 4,
 "nbformat_minor": 2
}
