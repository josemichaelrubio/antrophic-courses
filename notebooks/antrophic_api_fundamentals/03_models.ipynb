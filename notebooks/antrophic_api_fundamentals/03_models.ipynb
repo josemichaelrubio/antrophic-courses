{
 "cells": [
  {
   "cell_type": "markdown",
   "metadata": {},
   "source": [
    "# 03 Models\n",
    "\n",
    "From <https://github.com/josemichaelrubio/anthropic-courses-fork/blob/master/anthropic_api_fundamentals/03_models.ipynb>\n",
    "\n",
    "Comparison of the key features and capabilities of each model in the Claude family:\n",
    "* <https://docs.anthropic.com/en/docs/about-claude/models#model-comparison-table>\n",
    "\n",
    "If your intersted in a benchmark comparison between our Claude family of models, please read our Claude family model card for more information.\n",
    "<https://www-cdn.anthropic.com/f2986af8d052f26236f6251da62d16172cfabd6e/claude-3-model-card.pdf>"
   ]
  },
  {
   "cell_type": "code",
   "execution_count": 1,
   "metadata": {},
   "outputs": [],
   "source": [
    "# Import anthropic and load load our API key\n",
    "from dotenv import load_dotenv\n",
    "from anthropic import Anthropic\n",
    "\n",
    "load_dotenv()\n",
    "\n",
    "client = Anthropic()"
   ]
  },
  {
   "cell_type": "code",
   "execution_count": 2,
   "metadata": {},
   "outputs": [],
   "source": [
    "import time\n",
    "def compare_model_speeds():\n",
    "    models = [\"claude-3-5-sonnet-20240620\",\"claude-3-opus-20240229\", \"claude-3-sonnet-20240229\", \"claude-3-haiku-20240307\"]\n",
    "    task = \"Explain the concept of photosynthesis in a concise paragraph.\"\n",
    "\n",
    "    for model in models:\n",
    "        start_time = time.time()\n",
    "\n",
    "        response = client.messages.create(\n",
    "            model=model,\n",
    "            max_tokens=500,\n",
    "            messages=[{\"role\": \"user\", \"content\": task}]\n",
    "        )\n",
    "\n",
    "        end_time = time.time()\n",
    "        execution_time = end_time - start_time\n",
    "        tokens = response.usage.output_tokens\n",
    "        time_per_token = execution_time/tokens\n",
    "\n",
    "        print(f\"Model: {model}\")\n",
    "        print(f\"Response: {response.content[0].text}\")\n",
    "        print(f\"Generated Tokens: {tokens}\")\n",
    "        print(f\"Execution Time: {execution_time:.2f} seconds\")\n",
    "        print(f\"Time Per Token: {time_per_token:.2f} seconds\\n\")"
   ]
  },
  {
   "cell_type": "code",
   "execution_count": 3,
   "metadata": {},
   "outputs": [
    {
     "name": "stdout",
     "output_type": "stream",
     "text": [
      "Model: claude-3-5-sonnet-20240620\n",
      "Response: Photosynthesis is the process by which plants, algae, and some bacteria convert light energy into chemical energy. Using sunlight, carbon dioxide from the air, and water from the soil, these organisms produce glucose (a sugar) and oxygen. The process occurs primarily in the chloroplasts of plant cells, where chlorophyll, a green pigment, captures the light energy. This energy is then used to drive a series of chemical reactions that ultimately result in the production of glucose, which serves as food for the plant and can be stored for later use. Oxygen is released as a byproduct of this process, making photosynthesis crucial for maintaining Earth's atmosphere and supporting life on the planet.\n",
      "Generated Tokens: 153\n",
      "Execution Time: 2.55 seconds\n",
      "Time Per Token: 0.02 seconds\n",
      "\n",
      "Model: claude-3-opus-20240229\n",
      "Response: Photosynthesis is a process by which green plants and some other organisms use sunlight to synthesize nutrients from carbon dioxide and water. In plants, photosynthesis occurs primarily in the leaves, where specialized structures called chloroplasts contain a green pigment called chlorophyll. Chlorophyll absorbs sunlight, which provides the energy needed to drive the chemical reactions that convert carbon dioxide and water into glucose and oxygen. The glucose is used by the plant as a source of energy for growth and development, while the oxygen is released into the atmosphere as a byproduct of the process. Photosynthesis is essential for life on Earth, as it provides the energy that is used by nearly all living things to fuel their metabolic processes, either directly or indirectly through the food chain.\n",
      "Generated Tokens: 172\n",
      "Execution Time: 6.69 seconds\n",
      "Time Per Token: 0.04 seconds\n",
      "\n",
      "Model: claude-3-sonnet-20240229\n",
      "Response: Photosynthesis is the process by which plants and other photoautotrophs convert light energy from the sun into chemical energy in the form of glucose (sugar). During this process, carbon dioxide from the air and water from the soil are combined using the energy from sunlight, facilitated by chlorophyll and other pigments in the plant's leaves or other green tissues. Oxygen is released as a byproduct. The glucose produced during photosynthesis is then used by the plant as an energy source for growth, maintenance, and other life processes.\n",
      "Generated Tokens: 119\n",
      "Execution Time: 1.92 seconds\n",
      "Time Per Token: 0.02 seconds\n",
      "\n",
      "Model: claude-3-haiku-20240307\n",
      "Response: Photosynthesis is the process by which plants and some other organisms use sunlight, water, and carbon dioxide to produce oxygen and energy in the form of sugar. During this process, chlorophyll in the plant's leaves absorbs the sun's energy, which is then used to convert carbon dioxide and water into glucose and oxygen. This glucose can be used by the plant for growth and development, while the oxygen is released into the atmosphere. Photosynthesis is a crucial process that supports the entire ecosystem, as it provides the primary source of energy and oxygen for many living organisms.\n",
      "Generated Tokens: 126\n",
      "Execution Time: 2.16 seconds\n",
      "Time Per Token: 0.02 seconds\n",
      "\n"
     ]
    }
   ],
   "source": [
    "compare_model_speeds()"
   ]
  },
  {
   "cell_type": "markdown",
   "metadata": {},
   "source": [
    "## Comparing model capabilities\n",
    "\n",
    "Clearly Haiku is the fastest model, so why would we bother to use the others? It all comes down to the trade-off between model speed, cost, and overall capabilities. Haiku is the fastest, but its outputs may not be as high-quality as Opus's in certain situations. With that said, it's important to note that in many cases, Haiku can perform as well as some of our more capable models. The only way to truly know which model is the \"best\" for your specific use case is to try them out and evaluate their performance.\n",
    "\n",
    "In general, we recommend using our most capable model, Claude 3.5 Sonnet, for use cases involving:\n",
    "* Coding: Claude 3.5 Sonnet writes, edits, and runs code autonomously, streamlining code translations for faster, more accurate updates and migrations.\n",
    "* Customer support: Claude 3.5 Sonnet understands user context and orchestrates multi-step workflows, enabling 24/7 support, faster responses, and improved customer satisfaction.\n",
    "* Data science & analysis: Claude 3.5 Sonnet navigates unstructured data, generates insights, and produces visualizations and predictions to enhance data science expertise.\n",
    "* Visual processing: Claude 3.5 Sonnet excels at interpreting charts, graphs, and images, accurately transcribing text to derive insights beyond just the text alone.\n",
    "* Writing: Claude 3.5 Sonnet represents a significant improvement in understanding nuance and humor, producing high-quality, authentic, and relatable content.\n",
    "\n",
    "If your intersted in a benchmark comparison between our Claude family of models, please read our Claude family model card for more information.\n",
    "<https://www-cdn.anthropic.com/f2986af8d052f26236f6251da62d16172cfabd6e/claude-3-model-card.pdf>"
   ]
  },
  {
   "cell_type": "markdown",
   "metadata": {},
   "source": [
    "## Demonstrating capabilities\n",
    "It's hard to showcase the various capabilities of each model with a single demo, but the function below attempts to do so. We ask each of the three models to solve the following math problem:\n",
    "\n",
    "    What is the geometric monthly fecal coliform mean of a distribution system with the following FC\n",
    "    counts: 24, 15, 7, 16, 31 and 23? The result will be inputted into a NPDES DMR, therefore, round\n",
    "    to the nearest whole number\n",
    "\n",
    "NOTE: the correct answer is 18"
   ]
  },
  {
   "cell_type": "code",
   "execution_count": 4,
   "metadata": {},
   "outputs": [],
   "source": [
    "# We ask each model to solve the math problem 7 times and record the answer each time:\n",
    "def compare_model_capabilities():\n",
    "    models = [\"claude-3-5-sonnet-20240620\", \"claude-3-opus-20240229\", \"claude-3-sonnet-20240229\", \"claude-3-haiku-20240307\"]\n",
    "    task = \"\"\"\n",
    "    What is the geometric monthly fecal coliform mean of a distribution system with the following FC\n",
    " counts: 24, 15, 7, 16, 31 and 23? The result will be inputted into a NPDES DMR, therefore, round\n",
    " to the nearest whole number.  Respond only with a number and nothing else.\n",
    "    \"\"\"\n",
    "\n",
    "    for model in models:\n",
    "        answers = []\n",
    "        for attempt in range(7):\n",
    "            response = client.messages.create(\n",
    "                model=model,\n",
    "                max_tokens=1000,\n",
    "                messages=[{\"role\": \"user\", \"content\": task}]\n",
    "            )\n",
    "            answers.append(response.content[0].text)\n",
    "\n",
    "        print(f\"Model: {model}\")\n",
    "        print(f\"Answers: \", answers)"
   ]
  },
  {
   "cell_type": "code",
   "execution_count": 5,
   "metadata": {},
   "outputs": [
    {
     "name": "stdout",
     "output_type": "stream",
     "text": [
      "Model: claude-3-5-sonnet-20240620\n",
      "Answers:  ['18', '18', '18', '18', '18', '18', '18']\n",
      "Model: claude-3-opus-20240229\n",
      "Answers:  ['18', '18', '18', '18', '18', '18', '18']\n",
      "Model: claude-3-sonnet-20240229\n",
      "Answers:  ['17', '18', '18', '16', '17', '18', '18']\n",
      "Model: claude-3-haiku-20240307\n",
      "Answers:  ['18', '17', '17', '17', '17', '17', '17']\n"
     ]
    }
   ],
   "source": [
    "compare_model_capabilities()"
   ]
  }
 ],
 "metadata": {
  "kernelspec": {
   "display_name": "ac-venv",
   "language": "python",
   "name": "python3"
  },
  "language_info": {
   "codemirror_mode": {
    "name": "ipython",
    "version": 3
   },
   "file_extension": ".py",
   "mimetype": "text/x-python",
   "name": "python",
   "nbconvert_exporter": "python",
   "pygments_lexer": "ipython3",
   "version": "3.12.3"
  }
 },
 "nbformat": 4,
 "nbformat_minor": 2
}
