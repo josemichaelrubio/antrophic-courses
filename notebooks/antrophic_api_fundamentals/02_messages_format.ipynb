{
 "cells": [
  {
   "cell_type": "markdown",
   "metadata": {},
   "source": [
    "# 02 Messages Format\n",
    "\n",
    "<https://github.com/anthropics/courses/blob/master/anthropic_api_fundamentals/02_messages_format.ipynb>"
   ]
  },
  {
   "cell_type": "markdown",
   "metadata": {},
   "source": [
    "## Basic Set up"
   ]
  },
  {
   "cell_type": "code",
   "execution_count": 13,
   "metadata": {},
   "outputs": [],
   "source": [
    "# import the modules\n",
    "from dotenv import load_dotenv\n",
    "from anthropic import Anthropic\n",
    "\n",
    "#load environment variable\n",
    "load_dotenv()\n",
    "\n",
    "#automatically looks for an \"ANTHROPIC_API_KEY\" environment variable\n",
    "client = Anthropic()"
   ]
  },
  {
   "cell_type": "markdown",
   "metadata": {},
   "source": [
    "## Message Format: Role and Content"
   ]
  },
  {
   "cell_type": "code",
   "execution_count": 14,
   "metadata": {},
   "outputs": [],
   "source": [
    "# \"role\" and \"content\"\n",
    "\n",
    "response = client.messages.create(\n",
    "    model=\"claude-3-haiku-20240307\",\n",
    "    max_tokens=1000,\n",
    "    messages=[\n",
    "        {\"role\": \"user\", \n",
    "         \"content\": \"Translate hello to French. Respond with a single word\"}\n",
    "    ]\n",
    ")"
   ]
  },
  {
   "cell_type": "code",
   "execution_count": 15,
   "metadata": {},
   "outputs": [
    {
     "data": {
      "text/plain": [
       "Message(id='msg_01J63qcA4vRxWH2LpqaXY9TH', content=[TextBlock(text='Bonjour', type='text')], model='claude-3-haiku-20240307', role='assistant', stop_reason='end_turn', stop_sequence=None, type='message', usage=Usage(input_tokens=19, output_tokens=10))"
      ]
     },
     "execution_count": 15,
     "metadata": {},
     "output_type": "execute_result"
    }
   ],
   "source": [
    "response"
   ]
  },
  {
   "cell_type": "code",
   "execution_count": 16,
   "metadata": {},
   "outputs": [
    {
     "name": "stdout",
     "output_type": "stream",
     "text": [
      "Bonjour\n"
     ]
    }
   ],
   "source": [
    "print(response.content[0].text)"
   ]
  },
  {
   "cell_type": "markdown",
   "metadata": {},
   "source": [
    "## Functions in \"Content\""
   ]
  },
  {
   "cell_type": "code",
   "execution_count": 17,
   "metadata": {},
   "outputs": [
    {
     "name": "stdout",
     "output_type": "stream",
     "text": [
      "Bonjour\n"
     ]
    }
   ],
   "source": [
    "# Functions in \"Content\"\n",
    "def translate(word, language):\n",
    "  response = client.messages.create(\n",
    "      model=\"claude-3-opus-20240229\",\n",
    "      max_tokens=1000,\n",
    "      messages=[\n",
    "          {\"role\": \"user\", \"content\": f\"Translate the word {word} into {language}.  Only respond with the translated word, nothing else\"}\n",
    "      ]\n",
    "  )\n",
    "  return response.content[0].text\n",
    "\n",
    "print(response.content[0].text)"
   ]
  },
  {
   "cell_type": "markdown",
   "metadata": {},
   "source": [
    "## Puting words in Claude's mouth"
   ]
  },
  {
   "cell_type": "code",
   "execution_count": 18,
   "metadata": {},
   "outputs": [
    {
     "name": "stdout",
     "output_type": "stream",
     "text": [
      ",\n",
      "petals drifting, soft as snow,\n",
      "tranquil moment's grace.\n"
     ]
    }
   ],
   "source": [
    "# Puting words in Claude's mouth\n",
    "response = client.messages.create(\n",
    "    model=\"claude-3-haiku-20240307\",\n",
    "    max_tokens=500,\n",
    "    messages=[\n",
    "        {\"role\": \"user\", \"content\": f\"Generate a beautiful haiku\"},\n",
    "        {\"role\": \"assistant\", \"content\": \"calming mountain air\"}\n",
    "    ]\n",
    ")\n",
    "print(response.content[0].text)"
   ]
  },
  {
   "cell_type": "code",
   "execution_count": 19,
   "metadata": {},
   "outputs": [
    {
     "name": "stdout",
     "output_type": "stream",
     "text": [
      "calming mountain air,\n",
      "petals drifting, soft as snow,\n",
      "tranquil moment's grace.\n"
     ]
    }
   ],
   "source": [
    "print(\"calming mountain air\" + response.content[0].text)"
   ]
  },
  {
   "cell_type": "markdown",
   "metadata": {},
   "source": [
    "## Few-shot prompting"
   ]
  },
  {
   "cell_type": "code",
   "execution_count": 20,
   "metadata": {},
   "outputs": [
    {
     "name": "stdout",
     "output_type": "stream",
     "text": [
      "The sentiment in this tweet is positive.\n",
      "\n",
      "Here's a breakdown of the analysis:\n",
      "\n",
      "1. The tweet expresses excitement and enjoyment over trying a new product (\"Just tried the new spicy pickles from @PickleCo\").\n",
      "\n",
      "2. The use of the phrase \"my taste buds are doing a happy dance!\" conveys a strong positive reaction and enjoyment of the product.\n",
      "\n",
      "3. The use of the emojis 🌶️🥒 further emphasizes the spicy and pickle-related nature of the product, which the user is clearly pleased with.\n",
      "\n",
      "4. The inclusion of the hashtags #pickleslove and #spicyfood indicates that the user is a fan of these types of products and is likely to recommend or endorse them.\n",
      "\n",
      "Overall, the tweet expresses a very positive sentiment towards the new spicy pickles from @PickleCo, suggesting the user was highly satisfied with the product and enjoyed the experience of trying it.\n"
     ]
    }
   ],
   "source": [
    "response = client.messages.create(\n",
    "    model=\"claude-3-haiku-20240307\",\n",
    "    max_tokens=500,\n",
    "    messages=[\n",
    "        {\"role\": \"user\", \"content\": f\"Analyze the sentiment in this tweet: Just tried the new spicy pickles from @PickleCo, and my taste buds are doing a happy dance! 🌶️🥒 #pickleslove #spicyfood\"},\n",
    "    ]\n",
    ")\n",
    "print(response.content[0].text)\n"
   ]
  },
  {
   "cell_type": "code",
   "execution_count": 21,
   "metadata": {},
   "outputs": [
    {
     "name": "stdout",
     "output_type": "stream",
     "text": [
      "I understand that you have strong opinions about pickles, both positive and negative. Food preferences are highly subjective, so it's natural for people to disagree. I try to avoid taking strong stances on subjective topics like this, as I believe reasonable people can disagree. If you enjoy pickles, that's great! And if you don't, that's perfectly valid too. There's room in the world for all kinds of tastes. I aim to be respectful of different perspectives, even on topics I may feel differently about.\n"
     ]
    }
   ],
   "source": [
    "# Few-shot prompting\n",
    "response = client.messages.create(\n",
    "    model=\"claude-3-haiku-20240307\",\n",
    "    max_tokens=500,\n",
    "    messages=[\n",
    "        {\"role\": \"user\", \"content\": \"Unpopular opinion: Pickles are disgusting. Don't @ me\"},\n",
    "        {\"role\": \"assistant\", \"content\": \"NEGATIVE\"},\n",
    "        {\"role\": \"user\", \"content\": \"I think my love for pickles might be getting out of hand. I just bought a pickle-shaped pool float\"},\n",
    "        {\"role\": \"assistant\", \"content\": \"POSITIVE\"},\n",
    "        {\"role\": \"user\", \"content\": \"Seriously why would anyone ever eat a pickle?  Those things are nasty!\"},\n",
    "        {\"role\": \"assistant\", \"content\": \"NEGATIVE\"},\n",
    "        {\"role\": \"user\", \"content\": \"Just tried the new spicy pickles from @PickleCo, and my taste buds are doing a happy dance! 🌶️🥒 #pickleslove #spicyfood\"},\n",
    "    ]\n",
    ")\n",
    "print(response.content[0].text)"
   ]
  },
  {
   "cell_type": "code",
   "execution_count": null,
   "metadata": {},
   "outputs": [],
   "source": [
    "# Above is supposed to be one word"
   ]
  },
  {
   "cell_type": "markdown",
   "metadata": {},
   "source": [
    "## Chatbot example"
   ]
  },
  {
   "cell_type": "code",
   "execution_count": 24,
   "metadata": {},
   "outputs": [
    {
     "name": "stdout",
     "output_type": "stream",
     "text": [
      "Assistant: Hello! How can I assist you today?\n",
      "Assistant: Okay, I'm ready to help with your test or any other questions you may have. Let me know how I can be of assistance.\n",
      "Conversation ended.\n"
     ]
    }
   ],
   "source": [
    "conversation_history = []\n",
    "\n",
    "while True:\n",
    "    user_input = input(\"User: \")\n",
    "    \n",
    "    if user_input.lower() == \"quit\":\n",
    "        print(\"Conversation ended.\")\n",
    "        break\n",
    "    \n",
    "    conversation_history.append({\"role\": \"user\", \"content\": user_input})\n",
    "\n",
    "    response = client.messages.create(\n",
    "        model=\"claude-3-haiku-20240307\",\n",
    "        messages=conversation_history,\n",
    "        max_tokens=500\n",
    "    )\n",
    "\n",
    "    assistant_response = response.content[0].text\n",
    "    print(f\"Assistant: {assistant_response}\")\n",
    "    conversation_history.append({\"role\": \"assistant\", \"content\": assistant_response})"
   ]
  },
  {
   "cell_type": "code",
   "execution_count": 25,
   "metadata": {},
   "outputs": [
    {
     "name": "stdout",
     "output_type": "stream",
     "text": [
      "[{'role': 'user', 'content': 'hello'}, {'role': 'assistant', 'content': 'Hello! How can I assist you today?'}, {'role': 'user', 'content': 'test'}, {'role': 'assistant', 'content': \"Okay, I'm ready to help with your test or any other questions you may have. Let me know how I can be of assistance.\"}]\n"
     ]
    }
   ],
   "source": [
    "print(conversation_history)"
   ]
  }
 ],
 "metadata": {
  "kernelspec": {
   "display_name": "claude-explore-venv",
   "language": "python",
   "name": "python3"
  },
  "language_info": {
   "codemirror_mode": {
    "name": "ipython",
    "version": 3
   },
   "file_extension": ".py",
   "mimetype": "text/x-python",
   "name": "python",
   "nbconvert_exporter": "python",
   "pygments_lexer": "ipython3",
   "version": "3.12.3"
  }
 },
 "nbformat": 4,
 "nbformat_minor": 2
}
