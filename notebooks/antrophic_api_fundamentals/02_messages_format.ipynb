{
 "cells": [
  {
   "cell_type": "markdown",
   "metadata": {},
   "source": [
    "# 02 Messages Format\n",
    "\n",
    "<https://github.com/anthropics/courses/blob/master/anthropic_api_fundamentals/02_messages_format.ipynb>"
   ]
  },
  {
   "cell_type": "markdown",
   "metadata": {},
   "source": [
    "## Basic Set up"
   ]
  },
  {
   "cell_type": "code",
   "execution_count": 1,
   "metadata": {},
   "outputs": [],
   "source": [
    "# import the modules\n",
    "from dotenv import load_dotenv\n",
    "from anthropic import Anthropic\n",
    "\n",
    "#load environment variable\n",
    "load_dotenv()\n",
    "\n",
    "#automatically looks for an \"ANTHROPIC_API_KEY\" environment variable\n",
    "client = Anthropic()"
   ]
  },
  {
   "cell_type": "markdown",
   "metadata": {},
   "source": [
    "## Message Format: Role and Content"
   ]
  },
  {
   "cell_type": "code",
   "execution_count": 2,
   "metadata": {},
   "outputs": [],
   "source": [
    "# \"role\" and \"content\"\n",
    "\n",
    "response = client.messages.create(\n",
    "    model=\"claude-3-haiku-20240307\",\n",
    "    max_tokens=1000,\n",
    "    messages=[\n",
    "        {\"role\": \"user\", \n",
    "         \"content\": \"Translate hello to French. Respond with a single word\"}\n",
    "    ]\n",
    ")"
   ]
  },
  {
   "cell_type": "code",
   "execution_count": 3,
   "metadata": {},
   "outputs": [
    {
     "data": {
      "text/plain": [
       "Message(id='msg_01SnSY2kSNHqZThUA5ZyNjJt', content=[TextBlock(text='Bonjour', type='text')], model='claude-3-haiku-20240307', role='assistant', stop_reason='end_turn', stop_sequence=None, type='message', usage=Usage(input_tokens=19, output_tokens=14))"
      ]
     },
     "execution_count": 3,
     "metadata": {},
     "output_type": "execute_result"
    }
   ],
   "source": [
    "response"
   ]
  },
  {
   "cell_type": "code",
   "execution_count": 4,
   "metadata": {},
   "outputs": [
    {
     "name": "stdout",
     "output_type": "stream",
     "text": [
      "Bonjour\n"
     ]
    }
   ],
   "source": [
    "print(response.content[0].text)"
   ]
  },
  {
   "cell_type": "markdown",
   "metadata": {},
   "source": [
    "## Functions in \"Content\""
   ]
  },
  {
   "cell_type": "code",
   "execution_count": 5,
   "metadata": {},
   "outputs": [
    {
     "name": "stdout",
     "output_type": "stream",
     "text": [
      "Bonjour\n"
     ]
    }
   ],
   "source": [
    "# Functions in \"Content\"\n",
    "def translate(word, language):\n",
    "  response = client.messages.create(\n",
    "      model=\"claude-3-opus-20240229\",\n",
    "      max_tokens=1000,\n",
    "      messages=[\n",
    "          {\"role\": \"user\", \"content\": f\"Translate the word {word} into {language}.  Only respond with the translated word, nothing else\"}\n",
    "      ]\n",
    "  )\n",
    "  return response.content[0].text\n",
    "\n",
    "print(response.content[0].text)"
   ]
  },
  {
   "cell_type": "markdown",
   "metadata": {},
   "source": [
    "## Puting words in Claude's mouth"
   ]
  },
  {
   "cell_type": "code",
   "execution_count": 6,
   "metadata": {},
   "outputs": [
    {
     "name": "stdout",
     "output_type": "stream",
     "text": [
      "\n",
      "whispers of autumn's embrace\n",
      "nature's tranquil heart\n"
     ]
    }
   ],
   "source": [
    "# Puting words in Claude's mouth\n",
    "response = client.messages.create(\n",
    "    model=\"claude-3-haiku-20240307\",\n",
    "    max_tokens=500,\n",
    "    messages=[\n",
    "        {\"role\": \"user\", \"content\": f\"Generate a beautiful haiku\"},\n",
    "        {\"role\": \"assistant\", \"content\": \"calming mountain air\"}\n",
    "    ]\n",
    ")\n",
    "print(response.content[0].text)"
   ]
  },
  {
   "cell_type": "code",
   "execution_count": 7,
   "metadata": {},
   "outputs": [
    {
     "name": "stdout",
     "output_type": "stream",
     "text": [
      "calming mountain air\n",
      "whispers of autumn's embrace\n",
      "nature's tranquil heart\n"
     ]
    }
   ],
   "source": [
    "print(\"calming mountain air\" + response.content[0].text)"
   ]
  },
  {
   "cell_type": "markdown",
   "metadata": {},
   "source": [
    "## Few-shot prompting"
   ]
  },
  {
   "cell_type": "code",
   "execution_count": 8,
   "metadata": {},
   "outputs": [
    {
     "name": "stdout",
     "output_type": "stream",
     "text": [
      "The sentiment in this tweet is overall positive. Here's a breakdown of the analysis:\n",
      "\n",
      "Positive Sentiment:\n",
      "- The tweet uses an enthusiastic and excited tone, describing the pickles as making the person's \"taste buds do a happy dance.\"\n",
      "- The use of the exclamation mark and emojis (🌶️🥒) further convey a positive, happy reaction to the new spicy pickles.\n",
      "- The hashtags #pickleslove and #spicyfood indicate the person enjoys these types of food products.\n",
      "\n",
      "Neutral Sentiment:\n",
      "- There are no negative words or expressions used in the tweet.\n",
      "\n",
      "Overall, this tweet expresses very positive sentiment about the new spicy pickles from @PickleCo. The language used suggests the person thoroughly enjoyed the product and would recommend it to others.\n"
     ]
    }
   ],
   "source": [
    "response = client.messages.create(\n",
    "    model=\"claude-3-haiku-20240307\",\n",
    "    max_tokens=500,\n",
    "    messages=[\n",
    "        {\"role\": \"user\", \"content\": f\"Analyze the sentiment in this tweet: Just tried the new spicy pickles from @PickleCo, and my taste buds are doing a happy dance! 🌶️🥒 #pickleslove #spicyfood\"},\n",
    "    ]\n",
    ")\n",
    "print(response.content[0].text)\n"
   ]
  },
  {
   "cell_type": "code",
   "execution_count": 9,
   "metadata": {},
   "outputs": [
    {
     "name": "stdout",
     "output_type": "stream",
     "text": [
      "It seems your feelings about pickles have shifted from dislike to enthusiasm! I'm glad you've found a pickle product you really enjoy. It's always fun when our tastes and preferences evolve. Embracing the things we once found unappealing can be a sign of an open and adventurous palate. Enjoy your spicy pickles and pickle-themed pool float - it sounds like you've fully embraced the pickle lifestyle!\n"
     ]
    }
   ],
   "source": [
    "# Few-shot prompting\n",
    "response = client.messages.create(\n",
    "    model=\"claude-3-haiku-20240307\",\n",
    "    max_tokens=500,\n",
    "    messages=[\n",
    "        {\"role\": \"user\", \"content\": \"Unpopular opinion: Pickles are disgusting. Don't @ me\"},\n",
    "        {\"role\": \"assistant\", \"content\": \"NEGATIVE\"},\n",
    "        {\"role\": \"user\", \"content\": \"I think my love for pickles might be getting out of hand. I just bought a pickle-shaped pool float\"},\n",
    "        {\"role\": \"assistant\", \"content\": \"POSITIVE\"},\n",
    "        {\"role\": \"user\", \"content\": \"Seriously why would anyone ever eat a pickle?  Those things are nasty!\"},\n",
    "        {\"role\": \"assistant\", \"content\": \"NEGATIVE\"},\n",
    "        {\"role\": \"user\", \"content\": \"Just tried the new spicy pickles from @PickleCo, and my taste buds are doing a happy dance! 🌶️🥒 #pickleslove #spicyfood\"},\n",
    "    ]\n",
    ")\n",
    "print(response.content[0].text)"
   ]
  },
  {
   "cell_type": "code",
   "execution_count": 10,
   "metadata": {},
   "outputs": [],
   "source": [
    "# Above is supposed to be one word"
   ]
  },
  {
   "cell_type": "markdown",
   "metadata": {},
   "source": [
    "## Chatbot example"
   ]
  },
  {
   "cell_type": "code",
   "execution_count": 12,
   "metadata": {},
   "outputs": [
    {
     "name": "stdout",
     "output_type": "stream",
     "text": [
      "Assistant: Goodbye! It was a pleasure chatting with you. Feel free to reach out anytime if you have more questions or just want to talk. Take care!\n",
      "Conversation ended.\n"
     ]
    }
   ],
   "source": [
    "conversation_history = []\n",
    "\n",
    "while True:\n",
    "    user_input = input(\"User: \")\n",
    "    \n",
    "    if user_input.lower() == \"quit\":\n",
    "        print(\"Conversation ended.\")\n",
    "        break\n",
    "    \n",
    "    conversation_history.append({\"role\": \"user\", \"content\": user_input})\n",
    "\n",
    "    response = client.messages.create(\n",
    "        model=\"claude-3-haiku-20240307\",\n",
    "        messages=conversation_history,\n",
    "        max_tokens=500\n",
    "    )\n",
    "\n",
    "    assistant_response = response.content[0].text\n",
    "    print(f\"Assistant: {assistant_response}\")\n",
    "    conversation_history.append({\"role\": \"assistant\", \"content\": assistant_response})"
   ]
  },
  {
   "cell_type": "code",
   "execution_count": null,
   "metadata": {},
   "outputs": [
    {
     "name": "stdout",
     "output_type": "stream",
     "text": [
      "[{'role': 'user', 'content': 'hello'}, {'role': 'assistant', 'content': 'Hello! How can I assist you today?'}, {'role': 'user', 'content': 'test'}, {'role': 'assistant', 'content': \"Okay, I'm ready to help with your test or any other questions you may have. Let me know how I can be of assistance.\"}]\n"
     ]
    }
   ],
   "source": [
    "print(conversation_history)"
   ]
  }
 ],
 "metadata": {
  "kernelspec": {
   "display_name": "ac-venv",
   "language": "python",
   "name": "python3"
  },
  "language_info": {
   "codemirror_mode": {
    "name": "ipython",
    "version": 3
   },
   "file_extension": ".py",
   "mimetype": "text/x-python",
   "name": "python",
   "nbconvert_exporter": "python",
   "pygments_lexer": "ipython3",
   "version": "3.12.3"
  }
 },
 "nbformat": 4,
 "nbformat_minor": 2
}
